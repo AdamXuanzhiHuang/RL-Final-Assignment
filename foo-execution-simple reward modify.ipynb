{
 "cells": [
  {
   "cell_type": "code",
   "execution_count": 1,
   "metadata": {},
   "outputs": [
    {
     "name": "stdout",
     "output_type": "stream",
     "text": [
      "Obtaining file:///C:/Users/NHT/gym-foo\n",
      "Requirement already satisfied: gym in d:\\anaconda\\anaconda\\lib\\site-packages (from gym-foo==0.0.1) (0.18.0)\n",
      "Requirement already satisfied: scipy in d:\\anaconda\\anaconda\\lib\\site-packages (from gym->gym-foo==0.0.1) (1.5.0)\n",
      "Requirement already satisfied: numpy>=1.10.4 in d:\\anaconda\\anaconda\\lib\\site-packages (from gym->gym-foo==0.0.1) (1.18.5)\n",
      "Requirement already satisfied: pyglet<=1.5.0,>=1.4.0 in d:\\anaconda\\anaconda\\lib\\site-packages (from gym->gym-foo==0.0.1) (1.5.0)\n",
      "Requirement already satisfied: cloudpickle<1.7.0,>=1.2.0 in d:\\anaconda\\anaconda\\lib\\site-packages (from gym->gym-foo==0.0.1) (1.6.0)\n",
      "Requirement already satisfied: Pillow<=7.2.0 in d:\\anaconda\\anaconda\\lib\\site-packages (from gym->gym-foo==0.0.1) (7.2.0)\n",
      "Requirement already satisfied: future in d:\\anaconda\\anaconda\\lib\\site-packages (from pyglet<=1.5.0,>=1.4.0->gym->gym-foo==0.0.1) (0.18.2)\n",
      "Installing collected packages: gym-foo\n",
      "  Attempting uninstall: gym-foo\n",
      "    Found existing installation: gym-foo 0.0.1\n",
      "    Uninstalling gym-foo-0.0.1:\n",
      "      Successfully uninstalled gym-foo-0.0.1\n",
      "  Running setup.py develop for gym-foo\n",
      "Successfully installed gym-foo\n",
      "Note: you may need to restart the kernel to use updated packages.\n"
     ]
    }
   ],
   "source": [
    "pip install -e ."
   ]
  },
  {
   "cell_type": "code",
   "execution_count": 2,
   "metadata": {},
   "outputs": [],
   "source": [
    "import numpy as np\n",
    "import math\n",
    "import gym\n",
    "import gym_foo\n",
    "import matplotlib.pyplot as plt\n",
    "from tqdm import tqdm\n",
    "from collections import defaultdict"
   ]
  },
  {
   "cell_type": "code",
   "execution_count": 3,
   "metadata": {
    "scrolled": true
   },
   "outputs": [
    {
     "name": "stderr",
     "output_type": "stream",
     "text": [
      "100%|██████████████████████████████████████████████████████████████████████████████| 9999/9999 [02:49<00:00, 59.11it/s]\n"
     ]
    }
   ],
   "source": [
    "env = gym.make(\"foo-v0\", map_name = \"8x8\")\n",
    "\n",
    "def epsilon_greedy_policy(Q, state, epsilon):\n",
    "    if np.random.random() < epsilon:\n",
    "        return env.action_space.sample()\n",
    "    else:\n",
    "        action = np.argmax(Q[state])\n",
    "    return action\n",
    "    \n",
    "def Expected_SARSA(env, num_episodes, alpha, epsilon, gamma):\n",
    "  \n",
    "    Q = defaultdict(lambda: np.zeros(4))\n",
    "    pi = defaultdict(lambda: np.zeros(4))\n",
    "    rolling = []\n",
    "    rolling_avg = []\n",
    "\n",
    "    for episode in tqdm(range(1, num_episodes)):\n",
    "        state = env.reset()\n",
    "        t = 0\n",
    "        returns = 0\n",
    "        rewards = []\n",
    "        \n",
    "        while True:\n",
    "            action = epsilon_greedy_policy(Q, state, epsilon)\n",
    "            next_state, reward, done, _ = env.step(action)\n",
    "            rewards.append(reward)\n",
    "            _max = np.max(Q[next_state][:])\n",
    "            _maxcnt = 0\n",
    "            for _a in range(4):\n",
    "                if Q[next_state][_a] == _max:\n",
    "                    _maxcnt += 1\n",
    "            for _a in range(4):\n",
    "                if Q[next_state][_a] == _max:\n",
    "                    pi[next_state][_a] = 1. / _maxcnt\n",
    "                else:\n",
    "                    pi[next_state][_a] = 0.\n",
    "            next_state_type = env.desc.flatten()[int(next_state)]\n",
    "            Q[state][action] += alpha * \\\n",
    "                  (reward + gamma * np.sum(pi[next_state][:] * Q[next_state][:]) - Q[state][action])\n",
    "            state = next_state\n",
    "            t += 1\n",
    "            if done:\n",
    "                break\n",
    "\n",
    "        rolling.append(np.sum(rewards))\n",
    "        rolling_avg.append(np.mean(rolling))\n",
    "\n",
    "    return rolling, Q, rolling_avg\n",
    "\n",
    "er, q, avgs = Expected_SARSA(env = env, num_episodes = 10000, alpha = .85, epsilon = .1, gamma = 1)"
   ]
  },
  {
   "cell_type": "code",
   "execution_count": 5,
   "metadata": {},
   "outputs": [
    {
     "data": {
      "text/plain": [
       "Text(0, 0.5, 'Average Reward So Far')"
      ]
     },
     "execution_count": 5,
     "metadata": {},
     "output_type": "execute_result"
    },
    {
     "data": {
      "image/png": "[encoded data removed]",
      "text/plain": [
       "<Figure size 432x288 with 1 Axes>"
      ]
     },
     "metadata": {
      "needs_background": "light"
     },
     "output_type": "display_data"
    }
   ],
   "source": [
    "plt.axes([1, 1, 1, 1])\n",
    "plt.plot(avgs)\n",
    "plt.title(\"Expected SARSA with Simple Reward Modification\")\n",
    "plt.xlabel(\"Episode\")\n",
    "plt.ylabel(\"Average Reward So Far\")"
   ]
  },
  {
   "cell_type": "code",
   "execution_count": 69,
   "metadata": {},
   "outputs": [],
   "source": [
    "class LinearQLearner():\n",
    "    \"\"\"\n",
    "    A Linear Q-Learner that just acts greedily all the time. \n",
    "\n",
    "    Attributes:\n",
    "      env : An OpenGym environment (spoiler: it's MountainCar)\n",
    "      num_actions : An integer. The number of actions. For convenient reference.\n",
    "      state_size : An integer. The number of features. For convenient refernece.\n",
    "      gamma : A float; the discount factor\n",
    "      alpha : A float; the learning rate.\n",
    "      epsilon : A float indicating the exploration probability during action\n",
    "        selection.\n",
    "      epsilon_decay : A float indicating how much epsilon will be decayed\n",
    "        between episodes.\n",
    "      weights : A numpy array (state_size x num_actions) storing the weights.\n",
    "        This is a stacked representation, in which each action has its own\n",
    "        weights. For example, the weights for action 0 are stored in column 0,\n",
    "        the weights for action 1 are stored in column 1 ...\n",
    "\n",
    "    \"\"\"\n",
    "\n",
    "    def __init__(self, gamma, alpha, epsilon, epsilon_decay):\n",
    "        self.env = gym.make(\"foo-v0\")\n",
    "        self.num_actions = self.env.action_space.n\n",
    "        self.state_size = 64\n",
    "        self.gamma = gamma\n",
    "        self.alpha = alpha\n",
    "        self.epsilon = epsilon\n",
    "        self.epsilon_decay = epsilon_decay\n",
    "        self.weights = np.zeros(\n",
    "            (self.state_size, self.env.action_space.n)\n",
    "        )\n",
    "    \n",
    "    def reset(self):\n",
    "      \"\"\"\n",
    "      Resets the weights to 0 for fresh runs.\n",
    "      \"\"\"\n",
    "      self.weights = np.zeros((self.state_size, self.num_actions))\n",
    "\n",
    "    def estimate_action_values(self, state):\n",
    "      \"\"\"\n",
    "      Arguments:\n",
    "        state: A numpy array storing the continuous state vector.\n",
    "      Returns:\n",
    "        action_values: A numpy array storing the estimated Q values for each \n",
    "          action available in the given state.\n",
    "      \"\"\"\n",
    "      action_values = np.dot(\n",
    "          state, \n",
    "          self.weights\n",
    "          )\n",
    "      return action_values\n",
    "\n",
    "    def update_weights(self, delta, state, action):\n",
    "      \"\"\"\n",
    "      Calculates and applies the gradient update to the weights for the chosen\n",
    "      action.\n",
    "      Arguments:\n",
    "        delta: A float; the TD-error.\n",
    "        state: A numpy array storing the state vector.\n",
    "        action: An integer; the index of the chosen action.\n",
    "      \"\"\"\n",
    "      delta_vector = np.zeros((1, self.num_actions))\n",
    "      delta_vector[0,action] = self.alpha * delta\n",
    "      update =  np.dot(state.T, delta_vector)\n",
    "      self.weights += update\n",
    "\n",
    "    def choose_action_epsilon_greedy(self, state, epsilon):\n",
    "      \"\"\"\n",
    "      Chooses an action according to the epsilon-greedy policy.\n",
    "      Arguments:\n",
    "        state: A numpy array storing the state vector.\n",
    "        epsilon: A float; the probabilty to choose a random action.\n",
    "      Returns:\n",
    "        action: The index of the chosen action.\n",
    "        action_value: The vector of Q-values for all available actions.\n",
    "        action_max: The greedy action (for convenience).\n",
    "      \"\"\"\n",
    "      action_values = self.estimate_action_values(state)\n",
    "      if np.random.random() < epsilon:\n",
    "          action = np.random.choice( self.env.action_space.n )\n",
    "      else:\n",
    "          action = np.random.choice(\n",
    "              np.where(action_values == action_values.max())[0]\n",
    "              )\n",
    "      action_value = action_values[action,0]\n",
    "      action_max = np.max(action_values)\n",
    "      return action, action_value, action_max\n",
    "\n",
    "    def run_episode(self, epsilon, episode):\n",
    "        \"\"\"\n",
    "        Runs an epsiode.\n",
    "        Arguments:\n",
    "          epsilon: A float; the probability of choosing a random action.\n",
    "          episode: An integer, the current episode number.\n",
    "        Returns:\n",
    "          episode_return: A float. The total reward collected over the episode.\n",
    "        \"\"\"\n",
    "        episode_return = 0\n",
    "        state = self.env.reset()\n",
    "        done = False\n",
    "\n",
    "        while not done:\n",
    "          action, action_value, _ = self.choose_action_epsilon_greedy(state, epsilon)\n",
    "          next_state, reward, done, _ = self.env.step(action)\n",
    "          next_state = next_state.reshape((1,self.state_size))\n",
    "          next_action, _, max_q = \\\n",
    "            self.choose_action_epsilon_greedy(next_state, epsilon)\n",
    "\n",
    "          \"\"\"\n",
    "          Below, I multiply the gamma*q component by (1-done) because:\n",
    "          If the episode is done we don't need the gamma*q, so this \n",
    "          eliminates that component when we need it to be gone.\n",
    "          1 - True = 1 - 1 = 0\n",
    "          1 - False = 1 - 0 = 1\n",
    "          \"\"\"\n",
    "          target = reward + (( self.gamma * max_q ) * (1-done))\n",
    "          delta = target - action_value\n",
    "          self.update_weights(delta, state, action)\n",
    "          episode_return += reward\n",
    "          state = next_state\n",
    "\n",
    "        return episode_return\n",
    "\n",
    "    def learn_task(self, num_episodes, print_progress):\n",
    "      \"\"\"\n",
    "      This... learns the task.\n",
    "      Arguments:\n",
    "        num_episodes: An integer. The number of episodes to run.\n",
    "        print_progress: Boolean. Do we want the progress printed as we go?\n",
    "      Returns:\n",
    "        returns: A list of the rewards collected from each episode.\n",
    "        rolling_100_episode_avg: A list of the average of the last 100 episode \n",
    "          returns. Starts at episode 101,\n",
    "      \"\"\"\n",
    "      epsilon = self.epsilon\n",
    "      returns = []\n",
    "      rolling_100_episode_avg = []\n",
    "\n",
    "      for episode in tqdm( range(1, num_episodes), position=0, leave=True ):\n",
    "        episode_return = self.run_episode(epsilon, episode)\n",
    "        returns.append(episode_return)\n",
    "        if episode > 100:\n",
    "          avg = sum(returns[episode-100:episode])/100\n",
    "          rolling_100_episode_avg.append(avg)\n",
    "          if avg >= -110:\n",
    "            print('Solved in {} Episodes!'.format(episode))\n",
    "            break\n",
    "          if print_progress and episode % 100 == 0:\n",
    "            print('Average Reward for Last 100 Episodes = {}'.format(avg))\n",
    "            \n",
    "        epsilon *= self.epsilon_decay\n",
    "      \n",
    "      return returns, rolling_100_episode_avg"
   ]
  },
  {
   "cell_type": "code",
   "execution_count": 70,
   "metadata": {},
   "outputs": [
    {
     "name": "stderr",
     "output_type": "stream",
     "text": [
      "  0%|                                                                                         | 0/1999 [00:00<?, ?it/s]\n"
     ]
    },
    {
     "ename": "KeyError",
     "evalue": "48",
     "output_type": "error",
     "traceback": [
      "\u001b[1;31m---------------------------------------------------------------------------\u001b[0m",
      "\u001b[1;31mKeyError\u001b[0m                                  Traceback (most recent call last)",
      "\u001b[1;32m<ipython-input-70-35fdd262151b>\u001b[0m in \u001b[0;36m<module>\u001b[1;34m\u001b[0m\n\u001b[0;32m      6\u001b[0m \u001b[0magent\u001b[0m \u001b[1;33m=\u001b[0m \u001b[0mLinearQLearner\u001b[0m\u001b[1;33m(\u001b[0m\u001b[0mgamma\u001b[0m\u001b[1;33m,\u001b[0m \u001b[0malpha\u001b[0m\u001b[1;33m,\u001b[0m \u001b[0mepsilon\u001b[0m\u001b[1;33m,\u001b[0m \u001b[0mepsilon_decay\u001b[0m\u001b[1;33m)\u001b[0m\u001b[1;33m\u001b[0m\u001b[1;33m\u001b[0m\u001b[0m\n\u001b[0;32m      7\u001b[0m \u001b[1;33m\u001b[0m\u001b[0m\n\u001b[1;32m----> 8\u001b[1;33m \u001b[0mret\u001b[0m\u001b[1;33m,\u001b[0m \u001b[0mavg\u001b[0m \u001b[1;33m=\u001b[0m \u001b[0magent\u001b[0m\u001b[1;33m.\u001b[0m\u001b[0mlearn_task\u001b[0m\u001b[1;33m(\u001b[0m\u001b[1;36m2000\u001b[0m\u001b[1;33m,\u001b[0m \u001b[0mprint_progress\u001b[0m \u001b[1;33m=\u001b[0m \u001b[1;32mTrue\u001b[0m\u001b[1;33m)\u001b[0m\u001b[1;33m\u001b[0m\u001b[1;33m\u001b[0m\u001b[0m\n\u001b[0m\u001b[0;32m      9\u001b[0m \u001b[1;33m\u001b[0m\u001b[0m\n\u001b[0;32m     10\u001b[0m \u001b[0mplt\u001b[0m\u001b[1;33m.\u001b[0m\u001b[0mplot\u001b[0m\u001b[1;33m(\u001b[0m\u001b[0mavg\u001b[0m\u001b[1;33m)\u001b[0m\u001b[1;33m\u001b[0m\u001b[1;33m\u001b[0m\u001b[0m\n",
      "\u001b[1;32m<ipython-input-69-8ded980808a2>\u001b[0m in \u001b[0;36mlearn_task\u001b[1;34m(self, num_episodes, print_progress)\u001b[0m\n\u001b[0;32m    139\u001b[0m \u001b[1;33m\u001b[0m\u001b[0m\n\u001b[0;32m    140\u001b[0m       \u001b[1;32mfor\u001b[0m \u001b[0mepisode\u001b[0m \u001b[1;32min\u001b[0m \u001b[0mtqdm\u001b[0m\u001b[1;33m(\u001b[0m \u001b[0mrange\u001b[0m\u001b[1;33m(\u001b[0m\u001b[1;36m1\u001b[0m\u001b[1;33m,\u001b[0m \u001b[0mnum_episodes\u001b[0m\u001b[1;33m)\u001b[0m\u001b[1;33m,\u001b[0m \u001b[0mposition\u001b[0m\u001b[1;33m=\u001b[0m\u001b[1;36m0\u001b[0m\u001b[1;33m,\u001b[0m \u001b[0mleave\u001b[0m\u001b[1;33m=\u001b[0m\u001b[1;32mTrue\u001b[0m \u001b[1;33m)\u001b[0m\u001b[1;33m:\u001b[0m\u001b[1;33m\u001b[0m\u001b[1;33m\u001b[0m\u001b[0m\n\u001b[1;32m--> 141\u001b[1;33m         \u001b[0mepisode_return\u001b[0m \u001b[1;33m=\u001b[0m \u001b[0mself\u001b[0m\u001b[1;33m.\u001b[0m\u001b[0mrun_episode\u001b[0m\u001b[1;33m(\u001b[0m\u001b[0mepsilon\u001b[0m\u001b[1;33m,\u001b[0m \u001b[0mepisode\u001b[0m\u001b[1;33m)\u001b[0m\u001b[1;33m\u001b[0m\u001b[1;33m\u001b[0m\u001b[0m\n\u001b[0m\u001b[0;32m    142\u001b[0m         \u001b[0mreturns\u001b[0m\u001b[1;33m.\u001b[0m\u001b[0mappend\u001b[0m\u001b[1;33m(\u001b[0m\u001b[0mepisode_return\u001b[0m\u001b[1;33m)\u001b[0m\u001b[1;33m\u001b[0m\u001b[1;33m\u001b[0m\u001b[0m\n\u001b[0;32m    143\u001b[0m         \u001b[1;32mif\u001b[0m \u001b[0mepisode\u001b[0m \u001b[1;33m>\u001b[0m \u001b[1;36m100\u001b[0m\u001b[1;33m:\u001b[0m\u001b[1;33m\u001b[0m\u001b[1;33m\u001b[0m\u001b[0m\n",
      "\u001b[1;32m<ipython-input-69-8ded980808a2>\u001b[0m in \u001b[0;36mrun_episode\u001b[1;34m(self, epsilon, episode)\u001b[0m\n\u001b[0;32m    103\u001b[0m         \u001b[1;32mwhile\u001b[0m \u001b[1;32mnot\u001b[0m \u001b[0mdone\u001b[0m\u001b[1;33m:\u001b[0m\u001b[1;33m\u001b[0m\u001b[1;33m\u001b[0m\u001b[0m\n\u001b[0;32m    104\u001b[0m           \u001b[0maction\u001b[0m\u001b[1;33m,\u001b[0m \u001b[0maction_value\u001b[0m\u001b[1;33m,\u001b[0m \u001b[0m_\u001b[0m \u001b[1;33m=\u001b[0m \u001b[0mself\u001b[0m\u001b[1;33m.\u001b[0m\u001b[0mchoose_action_epsilon_greedy\u001b[0m\u001b[1;33m(\u001b[0m\u001b[0mstate\u001b[0m\u001b[1;33m,\u001b[0m \u001b[0mepsilon\u001b[0m\u001b[1;33m)\u001b[0m\u001b[1;33m\u001b[0m\u001b[1;33m\u001b[0m\u001b[0m\n\u001b[1;32m--> 105\u001b[1;33m           \u001b[0mnext_state\u001b[0m\u001b[1;33m,\u001b[0m \u001b[0mreward\u001b[0m\u001b[1;33m,\u001b[0m \u001b[0mdone\u001b[0m\u001b[1;33m,\u001b[0m \u001b[0m_\u001b[0m \u001b[1;33m=\u001b[0m \u001b[0mself\u001b[0m\u001b[1;33m.\u001b[0m\u001b[0menv\u001b[0m\u001b[1;33m.\u001b[0m\u001b[0mstep\u001b[0m\u001b[1;33m(\u001b[0m\u001b[0maction\u001b[0m\u001b[1;33m)\u001b[0m\u001b[1;33m\u001b[0m\u001b[1;33m\u001b[0m\u001b[0m\n\u001b[0m\u001b[0;32m    106\u001b[0m           \u001b[0mnext_state\u001b[0m \u001b[1;33m=\u001b[0m \u001b[0mnext_state\u001b[0m\u001b[1;33m.\u001b[0m\u001b[0mreshape\u001b[0m\u001b[1;33m(\u001b[0m\u001b[1;33m(\u001b[0m\u001b[1;36m1\u001b[0m\u001b[1;33m,\u001b[0m\u001b[0mself\u001b[0m\u001b[1;33m.\u001b[0m\u001b[0mstate_size\u001b[0m\u001b[1;33m)\u001b[0m\u001b[1;33m)\u001b[0m\u001b[1;33m\u001b[0m\u001b[1;33m\u001b[0m\u001b[0m\n\u001b[0;32m    107\u001b[0m           \u001b[0mnext_action\u001b[0m\u001b[1;33m,\u001b[0m \u001b[0m_\u001b[0m\u001b[1;33m,\u001b[0m \u001b[0mmax_q\u001b[0m \u001b[1;33m=\u001b[0m\u001b[0;31m \u001b[0m\u001b[0;31m\\\u001b[0m\u001b[1;33m\u001b[0m\u001b[1;33m\u001b[0m\u001b[0m\n",
      "\u001b[1;32mD:\\Anaconda\\Anaconda\\lib\\site-packages\\gym\\envs\\toy_text\\discrete.py\u001b[0m in \u001b[0;36mstep\u001b[1;34m(self, a)\u001b[0m\n\u001b[0;32m     53\u001b[0m \u001b[1;33m\u001b[0m\u001b[0m\n\u001b[0;32m     54\u001b[0m     \u001b[1;32mdef\u001b[0m \u001b[0mstep\u001b[0m\u001b[1;33m(\u001b[0m\u001b[0mself\u001b[0m\u001b[1;33m,\u001b[0m \u001b[0ma\u001b[0m\u001b[1;33m)\u001b[0m\u001b[1;33m:\u001b[0m\u001b[1;33m\u001b[0m\u001b[1;33m\u001b[0m\u001b[0m\n\u001b[1;32m---> 55\u001b[1;33m         \u001b[0mtransitions\u001b[0m \u001b[1;33m=\u001b[0m \u001b[0mself\u001b[0m\u001b[1;33m.\u001b[0m\u001b[0mP\u001b[0m\u001b[1;33m[\u001b[0m\u001b[0mself\u001b[0m\u001b[1;33m.\u001b[0m\u001b[0ms\u001b[0m\u001b[1;33m]\u001b[0m\u001b[1;33m[\u001b[0m\u001b[0ma\u001b[0m\u001b[1;33m]\u001b[0m\u001b[1;33m\u001b[0m\u001b[1;33m\u001b[0m\u001b[0m\n\u001b[0m\u001b[0;32m     56\u001b[0m         \u001b[0mi\u001b[0m \u001b[1;33m=\u001b[0m \u001b[0mcategorical_sample\u001b[0m\u001b[1;33m(\u001b[0m\u001b[1;33m[\u001b[0m\u001b[0mt\u001b[0m\u001b[1;33m[\u001b[0m\u001b[1;36m0\u001b[0m\u001b[1;33m]\u001b[0m \u001b[1;32mfor\u001b[0m \u001b[0mt\u001b[0m \u001b[1;32min\u001b[0m \u001b[0mtransitions\u001b[0m\u001b[1;33m]\u001b[0m\u001b[1;33m,\u001b[0m \u001b[0mself\u001b[0m\u001b[1;33m.\u001b[0m\u001b[0mnp_random\u001b[0m\u001b[1;33m)\u001b[0m\u001b[1;33m\u001b[0m\u001b[1;33m\u001b[0m\u001b[0m\n\u001b[0;32m     57\u001b[0m         \u001b[0mp\u001b[0m\u001b[1;33m,\u001b[0m \u001b[0ms\u001b[0m\u001b[1;33m,\u001b[0m \u001b[0mr\u001b[0m\u001b[1;33m,\u001b[0m \u001b[0md\u001b[0m \u001b[1;33m=\u001b[0m \u001b[0mtransitions\u001b[0m\u001b[1;33m[\u001b[0m\u001b[0mi\u001b[0m\u001b[1;33m]\u001b[0m\u001b[1;33m\u001b[0m\u001b[1;33m\u001b[0m\u001b[0m\n",
      "\u001b[1;31mKeyError\u001b[0m: 48"
     ]
    }
   ],
   "source": [
    "gamma = 1.\n",
    "alpha = .008 # just because, though I've tried many (see hyper search below)\n",
    "epsilon = 0.\n",
    "epsilon_decay = .9999\n",
    "\n",
    "agent = LinearQLearner(gamma, alpha, epsilon, epsilon_decay)\n",
    "\n",
    "ret, avg = agent.learn_task(2000, print_progress = True)\n",
    "\n",
    "plt.plot(avg)"
   ]
  },
  {
   "cell_type": "code",
   "execution_count": null,
   "metadata": {},
   "outputs": [],
   "source": []
  }
 ],
 "metadata": {
  "kernelspec": {
   "display_name": "Python 3",
   "language": "python",
   "name": "python3"
  },
  "language_info": {
   "codemirror_mode": {
    "name": "ipython",
    "version": 3
   },
   "file_extension": ".py",
   "mimetype": "text/x-python",
   "name": "python",
   "nbconvert_exporter": "python",
   "pygments_lexer": "ipython3",
   "version": "3.8.3"
  }
 },
 "nbformat": 4,
 "nbformat_minor": 4
}
